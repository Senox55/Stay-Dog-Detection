{
 "cells": [
  {
   "cell_type": "code",
   "execution_count": 2,
   "id": "0c6bb247-2adc-4d17-85d4-3eaec11bbf16",
   "metadata": {},
   "outputs": [],
   "source": [
    "import numpy as np\n",
    "import heapq\n",
    "import torch\n",
    "import csv\n",
    "import matplotlib.pyplot as plt\n",
    "from sklearn.cluster import DBSCAN\n",
    "from scipy.spatial import distance\n",
    "from PIL import Image\n",
    "from torchvision import models, transforms\n",
    "from torch.utils.data import Dataset, DataLoader"
   ]
  },
  {
   "cell_type": "code",
   "execution_count": 3,
   "id": "e17530bf-08ac-4ce3-9034-c0f286f9aed9",
   "metadata": {},
   "outputs": [],
   "source": [
    "class DogDataset(Dataset):\n",
    "    def __init__(self, image_paths, labels, transform=None):\n",
    "        self.image_paths = image_paths\n",
    "        self.labels = labels\n",
    "        self.transform = transform\n",
    "\n",
    "    def __len__(self):\n",
    "        return len(self.image_paths)\n",
    "\n",
    "    def __getitem__(self, idx):\n",
    "        img_path = self.image_paths[idx]\n",
    "        image = Image.open(img_path).convert(\"RGB\")\n",
    "        label = self.labels[idx]\n",
    "\n",
    "        if self.transform:\n",
    "            image = self.transform(image)\n",
    "\n",
    "        return image, label"
   ]
  },
  {
   "cell_type": "markdown",
   "id": "1597fd15-a9fb-45ff-8f1c-020b54a134b3",
   "metadata": {},
   "source": [
    "## Импортируем датасет"
   ]
  },
  {
   "cell_type": "code",
   "execution_count": 4,
   "id": "c93121eb-9ac2-4717-b54f-be097a4af042",
   "metadata": {},
   "outputs": [],
   "source": [
    "transform = transforms.Compose([\n",
    "    transforms.Resize(256),\n",
    "    transforms.CenterCrop(224),\n",
    "    transforms.ToTensor(),\n",
    "    transforms.Normalize(mean=[0.485, 0.456, 0.406], std=[0.229, 0.224, 0.225]),\n",
    "])\n",
    "\n",
    "with open('test_dataset', 'r') as csv_file:\n",
    "    reader = csv.DictReader(csv_file, delimiter=',')\n",
    "    names, photo_paths = [], []\n",
    "    for line in reader:\n",
    "        names.append(line['name'])\n",
    "        photo_paths.append(line['photo_path'])\n",
    "\n",
    "test_dataset = DogDataset(photo_paths, names, transform=transform)\n",
    "photo_paths_save = photo_paths\n",
    "\n",
    "with open('test_dataset_single', 'r') as csv_file:\n",
    "    reader = csv.DictReader(csv_file, delimiter=',')\n",
    "    names, photo_paths = [], []\n",
    "    for line in reader:\n",
    "        names.append(line['name'])\n",
    "        photo_paths.append(line['photo_path'])\n",
    "\n",
    "test_dataset_single = DogDataset(photo_paths, names, transform=transform)"
   ]
  },
  {
   "cell_type": "markdown",
   "id": "333dcbc7-bfb0-493b-a65c-bd8283216961",
   "metadata": {},
   "source": [
    "## Создаем DataLoaders"
   ]
  },
  {
   "cell_type": "code",
   "execution_count": 5,
   "id": "cd509031-a318-4d86-a3f3-9fce7e411142",
   "metadata": {},
   "outputs": [],
   "source": [
    "test_dataloader = DataLoader(test_dataset_single, batch_size=1)"
   ]
  },
  {
   "cell_type": "markdown",
   "id": "35879d19-5bfc-4d59-879e-d065ed112f25",
   "metadata": {},
   "source": [
    "## Инициализируем модель"
   ]
  },
  {
   "cell_type": "code",
   "execution_count": 6,
   "id": "c1cf62d9-b233-475f-9038-68380364b67f",
   "metadata": {},
   "outputs": [
    {
     "name": "stderr",
     "output_type": "stream",
     "text": [
      "/tmp/ipykernel_12791/3313998203.py:1: FutureWarning: You are using `torch.load` with `weights_only=False` (the current default value), which uses the default pickle module implicitly. It is possible to construct malicious pickle data which will execute arbitrary code during unpickling (See https://github.com/pytorch/pytorch/blob/main/SECURITY.md#untrusted-models for more details). In a future release, the default value for `weights_only` will be flipped to `True`. This limits the functions that could be executed during unpickling. Arbitrary objects will no longer be allowed to be loaded via this mode unless they are explicitly allowlisted by the user via `torch.serialization.add_safe_globals`. We recommend you start setting `weights_only=True` for any use case where you don't have full control of the loaded file. Please open an issue on GitHub for any issues related to this experimental feature.\n",
      "  checkpoint = torch.load('checkpoint-000025.pth.tar', map_location=torch.device('cpu'))\n"
     ]
    }
   ],
   "source": [
    "checkpoint = torch.load('checkpoint-000025.pth.tar', map_location=torch.device('cpu'))\n",
    "state_dict = checkpoint['state_dict']\n",
    "\n",
    "model = models.resnet50(weights='DEFAULT')\n",
    "model = torch.nn.Sequential(*list(model.children())[:-1])\n",
    "model.load_state_dict(state_dict)\n",
    "model.eval()\n",
    "plt.show()"
   ]
  },
  {
   "cell_type": "markdown",
   "id": "21e40136-a116-4bdb-b4f2-85ffc4d11b48",
   "metadata": {},
   "source": [
    "## Подготовка к тестированию"
   ]
  },
  {
   "cell_type": "code",
   "execution_count": 7,
   "id": "3d1203bb-dc03-43a5-8fd5-2b7fc250cc46",
   "metadata": {},
   "outputs": [],
   "source": [
    "class AverageMeters(object):\n",
    "    def __init__(self):\n",
    "        self.reset()\n",
    "\n",
    "    def reset(self):\n",
    "        self.avg = 0\n",
    "        self.cnt = 0\n",
    "        self.sum = 0\n",
    "        self.val = 0\n",
    "\n",
    "    def update(self, val, n=1):\n",
    "        self.val = val\n",
    "        self.sum += val * n\n",
    "        self.cnt += n\n",
    "        self.avg = self.sum / self.cnt"
   ]
  },
  {
   "cell_type": "code",
   "execution_count": 8,
   "id": "6720aee2-1954-497a-8bb4-4c96c97de486",
   "metadata": {},
   "outputs": [],
   "source": [
    "def extract_features(image_path):\n",
    "    image = Image.open(image_path)\n",
    "    img_tensor = transform(image).unsqueeze(0)\n",
    "    with torch.no_grad():\n",
    "        features = model(img_tensor)\n",
    "    return features.flatten()"
   ]
  },
  {
   "cell_type": "code",
   "execution_count": 9,
   "id": "1bc86898-c7d1-4597-bffe-860da73e95e4",
   "metadata": {},
   "outputs": [],
   "source": [
    "embeddings = []\n",
    "for photo_path in photo_paths_save:\n",
    "    embeddings.append(extract_features(photo_path))"
   ]
  },
  {
   "cell_type": "code",
   "execution_count": 18,
   "id": "a521c724-629a-4ba4-8c87-185ec2f4a222",
   "metadata": {},
   "outputs": [],
   "source": [
    "def accuracy(predict, target, embeddings):\n",
    "    with torch.no_grad():\n",
    "        similar_idx = [distance.cosine(predict, feat) for feat in embeddings]\n",
    "        idx_closest = sorted(range(len(similar_idx)), key=lambda k: similar_idx[k])[1]\n",
    "        correct = 1 if test_dataset[idx_closest][1] in target else 0\n",
    "        accuracy = correct * 100\n",
    "    return accuracy"
   ]
  },
  {
   "cell_type": "markdown",
   "id": "db6d79d4-505c-438e-9453-9c906dad196e",
   "metadata": {},
   "source": [
    "#### Выбор девайса для работы"
   ]
  },
  {
   "cell_type": "code",
   "execution_count": 19,
   "id": "3c4df791-13ce-4785-b771-c97042bf1886",
   "metadata": {},
   "outputs": [
    {
     "name": "stdout",
     "output_type": "stream",
     "text": [
      "cpu\n"
     ]
    }
   ],
   "source": [
    "device = torch.device(\"cuda\" if torch.cuda.is_available() else \"cpu\")\n",
    "print(device)\n",
    "model.to(device)\n",
    "plt.show()"
   ]
  },
  {
   "cell_type": "markdown",
   "id": "b16c5a85-315a-4158-947e-8f818bedd789",
   "metadata": {},
   "source": [
    "#### Цикл тестирования"
   ]
  },
  {
   "cell_type": "code",
   "execution_count": 20,
   "id": "bc1fd7e9-b103-4e7b-93da-8cae31eccea8",
   "metadata": {},
   "outputs": [],
   "source": [
    "def test_loop(dataloader, model):\n",
    "    losses = AverageMeters()\n",
    "    accs = AverageMeters()\n",
    "\n",
    "    for _, (data, target) in enumerate(dataloader):\n",
    "        data = data.to(device)\n",
    "\n",
    "        predict = model(data).flatten()\n",
    "\n",
    "        acc = accuracy(predict, target, embeddings)\n",
    "\n",
    "        accs.update(acc)\n",
    "    return accs.avg"
   ]
  },
  {
   "cell_type": "code",
   "execution_count": 21,
   "id": "03366013-c880-4615-99b5-57e1092f7ed4",
   "metadata": {},
   "outputs": [
    {
     "data": {
      "text/plain": [
       "3.8043478260869565"
      ]
     },
     "execution_count": 21,
     "metadata": {},
     "output_type": "execute_result"
    }
   ],
   "source": [
    "test_loop(test_dataloader, model)"
   ]
  },
  {
   "cell_type": "code",
   "execution_count": null,
   "id": "65a0d335-888c-4b05-b2c9-443582f10ad6",
   "metadata": {},
   "outputs": [],
   "source": []
  },
  {
   "cell_type": "code",
   "execution_count": null,
   "id": "4aab528e-8f5e-4590-ac41-ca727d2b083b",
   "metadata": {},
   "outputs": [],
   "source": []
  }
 ],
 "metadata": {
  "kernelspec": {
   "display_name": "Python 3 (ipykernel)",
   "language": "python",
   "name": "python3"
  },
  "language_info": {
   "codemirror_mode": {
    "name": "ipython",
    "version": 3
   },
   "file_extension": ".py",
   "mimetype": "text/x-python",
   "name": "python",
   "nbconvert_exporter": "python",
   "pygments_lexer": "ipython3",
   "version": "3.10.14"
  }
 },
 "nbformat": 4,
 "nbformat_minor": 5
}
